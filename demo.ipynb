{
 "cells": [
  {
   "cell_type": "code",
   "execution_count": 22,
   "metadata": {},
   "outputs": [
    {
     "name": "stdout",
     "output_type": "stream",
     "text": [
      "--NextSong--\n",
      " Name: The Motto\n",
      " Artist: Tiësto\n",
      " Rating: Popularity: 89\n",
      "\t World market: 183\n",
      " Album: The Motto\n",
      "\n"
     ]
    }
   ],
   "source": [
    "from NextSong.functions import *\n",
    "\n",
    "print(nextRandom())"
   ]
  },
  {
   "cell_type": "code",
   "execution_count": 23,
   "metadata": {},
   "outputs": [
    {
     "name": "stdout",
     "output_type": "stream",
     "text": [
      "--NextSong--\n",
      " Name: Ojitos Lindos\n",
      " Artist: Bad Bunny\n",
      " Rating: Popularity: 94\n",
      "\t World market: 183\n",
      " Album: Un Verano Sin Ti\n",
      "\n"
     ]
    }
   ],
   "source": [
    "print(nextRandom())"
   ]
  },
  {
   "cell_type": "markdown",
   "metadata": {},
   "source": [
    "Method \"nextRandom\" returns random pop songs throught API, along with the name of the song, artist, 2 different scores (popularity and World market) and the name of the Album."
   ]
  },
  {
   "cell_type": "code",
   "execution_count": 24,
   "metadata": {},
   "outputs": [
    {
     "name": "stdout",
     "output_type": "stream",
     "text": [
      "None\n",
      "--NextSong--\n",
      " Name: Matilda\n",
      " Artist: Harry Styles\n",
      " Rating: Popularity: 4.2 / 5\n",
      "\t Album rating: 3.4 / 5\n",
      " Album: Harry's House\n",
      "\n"
     ]
    }
   ],
   "source": [
    "print(nextHighestTrack())"
   ]
  },
  {
   "cell_type": "markdown",
   "metadata": {},
   "source": [
    "Method \"nextHighestTrack\" returns the top pop song popular this week throught Srapping, along with the name of the song, artist, 2 different scores (popularity and album rating) and the name of the Album."
   ]
  },
  {
   "cell_type": "code",
   "execution_count": 25,
   "metadata": {},
   "outputs": [
    {
     "name": "stdout",
     "output_type": "stream",
     "text": [
      "--NextSong--\n",
      " Name: In the Name of Love\n",
      " Artist: Martin Garrix\n",
      " Rating: Popularity: 75\n",
      "\t World market: 183\n",
      " Album: In the Name of Love\n",
      "\n"
     ]
    }
   ],
   "source": [
    "print(nextKeyWord(\"love\"))"
   ]
  },
  {
   "cell_type": "code",
   "execution_count": 26,
   "metadata": {},
   "outputs": [
    {
     "name": "stdout",
     "output_type": "stream",
     "text": [
      "--NextSong--\n",
      " Name: Pride (In The Name Of Love)\n",
      " Artist: LP\n",
      " Rating: Popularity: 42\n",
      "\t World market: 183\n",
      " Album: The Time Is Now!\n",
      "\n"
     ]
    }
   ],
   "source": [
    "print(nextKeyWord(\"pride\"))"
   ]
  },
  {
   "cell_type": "markdown",
   "metadata": {},
   "source": [
    "Method \"nextKeyWord\" returns a pop song matched with the keyword throught API, along with the name of the song, artist, 2 different scores (popularity and World market) and the name of the Album."
   ]
  }
 ],
 "metadata": {
  "interpreter": {
   "hash": "0498e4c2b986a97d2e5382ffcd552d8d4244205f2cb24cb31e78d5b38070c790"
  },
  "kernelspec": {
   "display_name": "Python 3.9.7 ('base')",
   "language": "python",
   "name": "python3"
  },
  "language_info": {
   "codemirror_mode": {
    "name": "ipython",
    "version": 3
   },
   "file_extension": ".py",
   "mimetype": "text/x-python",
   "name": "python",
   "nbconvert_exporter": "python",
   "pygments_lexer": "ipython3",
   "version": "3.9.7"
  },
  "orig_nbformat": 4
 },
 "nbformat": 4,
 "nbformat_minor": 2
}
